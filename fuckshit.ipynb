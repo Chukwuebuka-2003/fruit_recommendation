{
 "cells": [
  {
   "cell_type": "code",
   "execution_count": 1,
   "metadata": {},
   "outputs": [],
   "source": [
    "import pandas as pd\n",
    "import numpy as np\n",
    "from sklearn.model_selection import train_test_split\n",
    "from sklearn.preprocessing import LabelEncoder, StandardScaler\n",
    "from sklearn.ensemble import RandomForestClassifier\n",
    "from sklearn.tree import DecisionTreeClassifier\n",
    "from sklearn.metrics import classification_report, accuracy_score\n",
    "from sklearn.multioutput import MultiOutputClassifier\n",
    "\n",
    "# Load the data\n",
    "df = pd.read_csv('fruit.csv')\n",
    "\n"
   ]
  },
  {
   "cell_type": "code",
   "execution_count": 2,
   "metadata": {},
   "outputs": [
    {
     "data": {
      "text/plain": [
       "Index(['UserID', 'Age', 'Gender', 'HealthCondition', 'RecommendedFruit',\n",
       "       'RecommendedVegetable', 'Feedback'],\n",
       "      dtype='object')"
      ]
     },
     "execution_count": 2,
     "metadata": {},
     "output_type": "execute_result"
    }
   ],
   "source": [
    "df.columns"
   ]
  },
  {
   "cell_type": "code",
   "execution_count": 5,
   "metadata": {},
   "outputs": [
    {
     "data": {
      "text/plain": [
       "array(['Banana', 'Apple', 'Berries', 'Orange', 'Strawberry', 'Kiwi',\n",
       "       'Papaya', 'Guava', 'Peach', 'Mango', 'Cherry', 'Grape', 'Pear',\n",
       "       'Watermelon', 'Pineapple', 'Apricot', 'Fig', 'Plum', 'Lemon',\n",
       "       'Lime', 'Mandarin', 'Nectarine', 'Pomegranate', 'Raspberry',\n",
       "       'Blueberry', 'Blackberry', 'Date', 'Dragon Fruit', 'Durian',\n",
       "       'Elderberry', 'Grapefruit', 'Honeydew', 'Jackfruit', 'Kumquat',\n",
       "       'Lychee', 'Mulberry', 'Nance', 'Olallieberry', 'Passion Fruit',\n",
       "       'Quince', 'Rambutan', 'Sapote', 'Soursop', 'Tamarind',\n",
       "       'Ugli Fruit', 'Voavanga', 'Xigua', 'Yellow Passion Fruit',\n",
       "       'Zucchini'], dtype=object)"
      ]
     },
     "execution_count": 5,
     "metadata": {},
     "output_type": "execute_result"
    }
   ],
   "source": [
    "df['RecommendedVegetable'].unique()"
   ]
  },
  {
   "cell_type": "code",
   "execution_count": 2,
   "metadata": {},
   "outputs": [
    {
     "name": "stdout",
     "output_type": "stream",
     "text": [
      "Model Accuracy:\n",
      "Fruit Recommendations: 0.125\n",
      "Vegetable Recommendations: 0.075\n"
     ]
    }
   ],
   "source": [
    "# Preprocessing\n",
    "# Encode categorical variables\n",
    "le_gender = LabelEncoder()\n",
    "le_health = LabelEncoder()\n",
    "le_fruit = LabelEncoder()\n",
    "le_vegetable = LabelEncoder()\n",
    "\n",
    "df['Gender'] = le_gender.fit_transform(df['Gender'])\n",
    "df['HealthCondition'] = le_health.fit_transform(df['HealthCondition'])\n",
    "df['RecommendedFruit'] = le_fruit.fit_transform(df['RecommendedFruit'])\n",
    "df['RecommendedVegetable'] = le_vegetable.fit_transform(df['RecommendedVegetable'])\n",
    "\n",
    "# Scale the 'Age' feature\n",
    "scaler = StandardScaler()\n",
    "df['Age'] = scaler.fit_transform(df[['Age']])\n",
    "\n",
    "# Prepare features and targets\n",
    "X = df[['Age', 'Gender', 'HealthCondition']]\n",
    "y = df[['RecommendedFruit', 'RecommendedVegetable']]\n",
    "\n",
    "# Split the data\n",
    "X_train, X_test, y_train, y_test = train_test_split(X, y, test_size=0.2, random_state=42)\n",
    "\n",
    "# Create and train the model\n",
    "rf_model = RandomForestClassifier(n_estimators=100, random_state=42)\n",
    "multi_output_rf = MultiOutputClassifier(rf_model, n_jobs=-1)\n",
    "multi_output_rf.fit(X_train, y_train)\n",
    "\n",
    "# Make predictions\n",
    "y_pred = multi_output_rf.predict(X_test)\n",
    "\n",
    "# Evaluate the model\n",
    "print(\"Model Accuracy:\")\n",
    "print(\"Fruit Recommendations:\", accuracy_score(y_test['RecommendedFruit'], y_pred[:, 0]))\n",
    "print(\"Vegetable Recommendations:\", accuracy_score(y_test['RecommendedVegetable'], y_pred[:, 1]))\n",
    "\n"
   ]
  },
  {
   "cell_type": "code",
   "execution_count": 3,
   "metadata": {},
   "outputs": [],
   "source": [
    "# Function to get recommendations\n",
    "def get_recommendations(age, gender, health_condition):\n",
    "    # Preprocess input\n",
    "    age_scaled = scaler.transform([[age]])[0][0]\n",
    "    gender_encoded = le_gender.transform([gender])[0]\n",
    "    health_encoded = le_health.transform([health_condition])[0]\n",
    "    \n",
    "    # Make prediction\n",
    "    prediction = multi_output_rf.predict([[age_scaled, gender_encoded, health_encoded]])\n",
    "    \n",
    "    # Decode prediction\n",
    "    fruit = le_fruit.inverse_transform(prediction[:, 0])[0]\n",
    "    vegetable = le_vegetable.inverse_transform(prediction[:, 1])[0]\n",
    "    \n",
    "    return fruit, vegetable"
   ]
  },
  {
   "cell_type": "code",
   "execution_count": 4,
   "metadata": {},
   "outputs": [
    {
     "name": "stderr",
     "output_type": "stream",
     "text": [
      "/home/ebuka/anaconda3/lib/python3.11/site-packages/sklearn/base.py:493: UserWarning: X does not have valid feature names, but StandardScaler was fitted with feature names\n",
      "  warnings.warn(\n"
     ]
    },
    {
     "name": "stderr",
     "output_type": "stream",
     "text": [
      "/home/ebuka/anaconda3/lib/python3.11/site-packages/sklearn/base.py:493: UserWarning: X does not have valid feature names, but RandomForestClassifier was fitted with feature names\n",
      "  warnings.warn(\n",
      "/home/ebuka/anaconda3/lib/python3.11/site-packages/sklearn/base.py:493: UserWarning: X does not have valid feature names, but RandomForestClassifier was fitted with feature names\n",
      "  warnings.warn(\n"
     ]
    },
    {
     "name": "stdout",
     "output_type": "stream",
     "text": [
      "\n",
      "Recommendations for a 60-year-old Female with Diabetes:\n",
      "Recommended Fruit: Dragon Fruit\n",
      "Recommended Vegetable: Zucchini\n"
     ]
    }
   ],
   "source": [
    "# Example usage\n",
    "age = 60\n",
    "gender = 'Female'\n",
    "health_condition = 'Diabetes'\n",
    "\n",
    "fruit, vegetable = get_recommendations(age, gender, health_condition)\n",
    "print(f\"\\nRecommendations for a {age}-year-old {gender} with {health_condition}:\")\n",
    "print(f\"Recommended Fruit: {fruit}\")\n",
    "print(f\"Recommended Vegetable: {vegetable}\")"
   ]
  },
  {
   "cell_type": "code",
   "execution_count": 5,
   "metadata": {},
   "outputs": [],
   "source": [
    "import joblib"
   ]
  },
  {
   "cell_type": "code",
   "execution_count": 7,
   "metadata": {},
   "outputs": [
    {
     "data": {
      "text/plain": [
       "['scaler.sav']"
      ]
     },
     "execution_count": 7,
     "metadata": {},
     "output_type": "execute_result"
    }
   ],
   "source": [
    "joblib.dump(multi_output_rf, 'model.sav')\n",
    "joblib.dump(le_gender, 'le_gender.sav')\n",
    "joblib.dump(le_health, 'le_health.sav')\n",
    "joblib.dump(le_fruit, 'le_fruit.sav')\n",
    "joblib.dump(le_vegetable, 'le_vegetable.sav')\n",
    "joblib.dump(scaler, 'scaler.sav')"
   ]
  },
  {
   "cell_type": "code",
   "execution_count": null,
   "metadata": {},
   "outputs": [],
   "source": []
  }
 ],
 "metadata": {
  "kernelspec": {
   "display_name": "base",
   "language": "python",
   "name": "python3"
  },
  "language_info": {
   "codemirror_mode": {
    "name": "ipython",
    "version": 3
   },
   "file_extension": ".py",
   "mimetype": "text/x-python",
   "name": "python",
   "nbconvert_exporter": "python",
   "pygments_lexer": "ipython3",
   "version": "3.11.7"
  }
 },
 "nbformat": 4,
 "nbformat_minor": 2
}
