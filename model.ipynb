{
 "cells": [
  {
   "cell_type": "code",
   "execution_count": 67,
   "metadata": {},
   "outputs": [],
   "source": [
    "import pandas as pd\n",
    "import numpy as np\n",
    "from sklearn.preprocessing import LabelEncoder\n",
    "from xgboost import XGBClassifier\n",
    "from sklearn.model_selection import train_test_split"
   ]
  },
  {
   "cell_type": "code",
   "execution_count": 68,
   "metadata": {},
   "outputs": [
    {
     "data": {
      "text/html": [
       "<div>\n",
       "<style scoped>\n",
       "    .dataframe tbody tr th:only-of-type {\n",
       "        vertical-align: middle;\n",
       "    }\n",
       "\n",
       "    .dataframe tbody tr th {\n",
       "        vertical-align: top;\n",
       "    }\n",
       "\n",
       "    .dataframe thead th {\n",
       "        text-align: right;\n",
       "    }\n",
       "</style>\n",
       "<table border=\"1\" class=\"dataframe\">\n",
       "  <thead>\n",
       "    <tr style=\"text-align: right;\">\n",
       "      <th></th>\n",
       "      <th>UserID</th>\n",
       "      <th>Age</th>\n",
       "      <th>Gender</th>\n",
       "      <th>HealthCondition</th>\n",
       "      <th>RecommendedFruit</th>\n",
       "      <th>RecommendedVegetable</th>\n",
       "      <th>Feedback</th>\n",
       "    </tr>\n",
       "  </thead>\n",
       "  <tbody>\n",
       "    <tr>\n",
       "      <th>0</th>\n",
       "      <td>1</td>\n",
       "      <td>34</td>\n",
       "      <td>Female</td>\n",
       "      <td>Hypertension</td>\n",
       "      <td>Banana</td>\n",
       "      <td>Spinach</td>\n",
       "      <td>Positive</td>\n",
       "    </tr>\n",
       "    <tr>\n",
       "      <th>1</th>\n",
       "      <td>2</td>\n",
       "      <td>45</td>\n",
       "      <td>Male</td>\n",
       "      <td>Diabetes</td>\n",
       "      <td>Apple</td>\n",
       "      <td>Carrot</td>\n",
       "      <td>Neutral</td>\n",
       "    </tr>\n",
       "    <tr>\n",
       "      <th>2</th>\n",
       "      <td>3</td>\n",
       "      <td>29</td>\n",
       "      <td>Female</td>\n",
       "      <td>Obesity</td>\n",
       "      <td>Berries</td>\n",
       "      <td>Broccoli</td>\n",
       "      <td>Positive</td>\n",
       "    </tr>\n",
       "    <tr>\n",
       "      <th>3</th>\n",
       "      <td>4</td>\n",
       "      <td>52</td>\n",
       "      <td>Male</td>\n",
       "      <td>Heart Disease</td>\n",
       "      <td>Orange</td>\n",
       "      <td>Kale</td>\n",
       "      <td>Negative</td>\n",
       "    </tr>\n",
       "    <tr>\n",
       "      <th>4</th>\n",
       "      <td>5</td>\n",
       "      <td>23</td>\n",
       "      <td>Non-binary</td>\n",
       "      <td>Anemia</td>\n",
       "      <td>Strawberry</td>\n",
       "      <td>Beetroot</td>\n",
       "      <td>Positive</td>\n",
       "    </tr>\n",
       "  </tbody>\n",
       "</table>\n",
       "</div>"
      ],
      "text/plain": [
       "   UserID  Age      Gender HealthCondition RecommendedFruit  \\\n",
       "0       1   34      Female    Hypertension           Banana   \n",
       "1       2   45        Male        Diabetes            Apple   \n",
       "2       3   29      Female         Obesity          Berries   \n",
       "3       4   52        Male   Heart Disease           Orange   \n",
       "4       5   23  Non-binary          Anemia       Strawberry   \n",
       "\n",
       "  RecommendedVegetable  Feedback  \n",
       "0              Spinach  Positive  \n",
       "1               Carrot   Neutral  \n",
       "2             Broccoli  Positive  \n",
       "3                 Kale  Negative  \n",
       "4             Beetroot  Positive  "
      ]
     },
     "execution_count": 68,
     "metadata": {},
     "output_type": "execute_result"
    }
   ],
   "source": [
    "df = pd.read_csv('fruit.csv')\n",
    "\n",
    "df.head()"
   ]
  },
  {
   "cell_type": "code",
   "execution_count": 69,
   "metadata": {},
   "outputs": [
    {
     "data": {
      "text/plain": [
       "Index(['UserID', 'Age', 'Gender', 'HealthCondition', 'RecommendedFruit',\n",
       "       'RecommendedVegetable', 'Feedback'],\n",
       "      dtype='object')"
      ]
     },
     "execution_count": 69,
     "metadata": {},
     "output_type": "execute_result"
    }
   ],
   "source": [
    "df.columns"
   ]
  },
  {
   "cell_type": "code",
   "execution_count": null,
   "metadata": {},
   "outputs": [],
   "source": []
  },
  {
   "cell_type": "code",
   "execution_count": 70,
   "metadata": {},
   "outputs": [],
   "source": [
    "fruit_data = df[['Age', 'Gender', 'HealthCondition', 'RecommendedFruit', 'RecommendedVegetable']]\n",
    "fruit_data_cleaned = df.dropna(subset=['Age', 'Gender', 'HealthCondition', 'RecommendedFruit', 'RecommendedVegetable'])"
   ]
  },
  {
   "cell_type": "code",
   "execution_count": 71,
   "metadata": {},
   "outputs": [
    {
     "data": {
      "text/plain": [
       "['label_encoder_health.sav']"
      ]
     },
     "execution_count": 71,
     "metadata": {},
     "output_type": "execute_result"
    }
   ],
   "source": [
    "import joblib\n",
    "from sklearn.preprocessing import LabelEncoder\n",
    "from sklearn.tree import DecisionTreeClassifier\n",
    "from sklearn.model_selection import train_test_split\n",
    "\n",
    "# Assuming fruit_data_cleaned DataFrame is already loaded and preprocessed\n",
    "label_encoder_gender = LabelEncoder()\n",
    "label_encoder_health = LabelEncoder()\n",
    "\n",
    "fruit_data_cleaned['GENDER_ENCODED'] = label_encoder_gender.fit_transform(fruit_data_cleaned['Gender'])\n",
    "fruit_data_cleaned['HEALTHCONDITION_ENCODED'] = label_encoder_health.fit_transform(fruit_data_cleaned['HealthCondition'])\n",
    "\n",
    "X = fruit_data_cleaned[['Age', 'GENDER_ENCODED', 'HEALTHCONDITION_ENCODED']]\n",
    "y = fruit_data_cleaned['RecommendedFruit']\n",
    "X_train, X_test, y_train, y_test = train_test_split(X, y, test_size=0.2, random_state=42)\n",
    "\n",
    "clf = DecisionTreeClassifier()\n",
    "clf.fit(X_train, y_train)\n",
    "\n",
    "# Save the model and encoders\n",
    "joblib.dump(clf, 'fruitmodel.sav')\n",
    "joblib.dump(label_encoder_gender, 'label_encoder_gender.sav')\n",
    "joblib.dump(label_encoder_health, 'label_encoder_health.sav')\n"
   ]
  },
  {
   "cell_type": "code",
   "execution_count": 56,
   "metadata": {},
   "outputs": [],
   "source": [
    "#label_encoder_age = LabelEncoder()\n",
    "label_encoder_gender = LabelEncoder()\n",
    "label_encoder_health = LabelEncoder()"
   ]
  },
  {
   "cell_type": "code",
   "execution_count": 57,
   "metadata": {},
   "outputs": [],
   "source": [
    "#fruit_data_cleaned['AGE_ENCODED'] = label_encoder_age.fit_transform(fruit_data_cleaned['Age'])\n",
    "fruit_data_cleaned['GENDER_ENCODED']  = label_encoder_gender.fit_transform(fruit_data_cleaned['Gender'])\n",
    "fruit_data_cleaned['HEALTHCONDITION_ENCODED'] = label_encoder_health.fit_transform(fruit_data_cleaned['HealthCondition'])"
   ]
  },
  {
   "cell_type": "code",
   "execution_count": 58,
   "metadata": {},
   "outputs": [],
   "source": [
    "# Split the data into training and testing sets\n",
    "X = fruit_data_cleaned[['Age','GENDER_ENCODED', 'HEALTHCONDITION_ENCODED']]\n",
    "y = fruit_data_cleaned['RecommendedFruit']\n",
    "X_train, X_test, y_train, y_test = train_test_split(X, y, test_size=0.2, random_state=42)\n"
   ]
  },
  {
   "cell_type": "code",
   "execution_count": 59,
   "metadata": {},
   "outputs": [],
   "source": [
    "from sklearn.tree import DecisionTreeClassifier\n",
    "from sklearn.metrics import accuracy_score, classification_report\n",
    "\n",
    "# Train a Decision Tree Classifier\n",
    "clf = DecisionTreeClassifier()\n",
    "clf.fit(X_train, y_train)\n",
    "\n",
    "# Make predictions and evaluate the model\n",
    "y_pred = clf.predict(X_test)\n",
    "accuracy = accuracy_score(y_test, y_pred)"
   ]
  },
  {
   "cell_type": "code",
   "execution_count": 60,
   "metadata": {},
   "outputs": [
    {
     "data": {
      "text/plain": [
       "0.1"
      ]
     },
     "execution_count": 60,
     "metadata": {},
     "output_type": "execute_result"
    }
   ],
   "source": [
    "accuracy"
   ]
  },
  {
   "cell_type": "code",
   "execution_count": 65,
   "metadata": {},
   "outputs": [],
   "source": [
    "# Function to suggest nutritional tips\n",
    "def suggest_nutritional_tips(age, gender, health):\n",
    "    age_encoded = age\n",
    "    gender_encoded = label_encoder_gender.transform([gender])[0]\n",
    "    health_encoded = label_encoder_health.transform([health])[0]\n",
    "    suggestion = clf.predict([[age_encoded, gender_encoded, health_encoded]])\n",
    "    return suggestion[0]"
   ]
  },
  {
   "cell_type": "code",
   "execution_count": 66,
   "metadata": {},
   "outputs": [
    {
     "name": "stdout",
     "output_type": "stream",
     "text": [
      "Recommended Fruit for 35, Male Obesity: Pear\n"
     ]
    },
    {
     "name": "stderr",
     "output_type": "stream",
     "text": [
      "/home/ebuka/anaconda3/lib/python3.11/site-packages/sklearn/base.py:493: UserWarning: X does not have valid feature names, but DecisionTreeClassifier was fitted with feature names\n",
      "  warnings.warn(\n"
     ]
    }
   ],
   "source": [
    "age_input = 35\n",
    "gender = 'Male'\n",
    "health = 'Obesity'\n",
    "print(f'Recommended Fruit for {age_input}, {gender} {health}: {suggest_nutritional_tips(age_input, gender, health)}')\n"
   ]
  },
  {
   "cell_type": "code",
   "execution_count": 50,
   "metadata": {},
   "outputs": [],
   "source": [
    "from pickle import dump\n",
    "dump(clf,open('fruitmodel.sav','wb'))"
   ]
  },
  {
   "cell_type": "code",
   "execution_count": 51,
   "metadata": {},
   "outputs": [],
   "source": [
    "dump(label_encoder_age, open('label_encoder_age.sav', 'wb'))\n",
    "dump(label_encoder_gender, open('label_encoder_gender.sav', 'wb'))\n",
    "dump(label_encoder_health, open('label_encoder_health.sav', 'wb'))"
   ]
  },
  {
   "cell_type": "code",
   "execution_count": null,
   "metadata": {},
   "outputs": [],
   "source": []
  }
 ],
 "metadata": {
  "kernelspec": {
   "display_name": "base",
   "language": "python",
   "name": "python3"
  },
  "language_info": {
   "codemirror_mode": {
    "name": "ipython",
    "version": 3
   },
   "file_extension": ".py",
   "mimetype": "text/x-python",
   "name": "python",
   "nbconvert_exporter": "python",
   "pygments_lexer": "ipython3",
   "version": "3.11.7"
  }
 },
 "nbformat": 4,
 "nbformat_minor": 2
}
